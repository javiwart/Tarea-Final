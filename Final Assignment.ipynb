import yfinance as yf

# Descargar los datos de Tesla
tesla = yf.Ticker("TSLA")
tesla_data = tesla.history(period="1y")  # Datos de 1 año
tesla_data.head()  # Mostrar los primeros 5 registros
